{
 "cells": [
  {
   "cell_type": "markdown",
   "id": "narrative-implementation",
   "metadata": {},
   "source": [
    "## Netflix Analysis"
   ]
  },
  {
   "cell_type": "code",
   "execution_count": 86,
   "id": "important-camping",
   "metadata": {},
   "outputs": [],
   "source": [
    "# import required libraries\n",
    "import numpy as np\n",
    "import pandas as pd\n",
    "import matplotlib.pyplot as plt \n",
    "import seaborn as sns\n",
    "sns.set_style(\"dark\")\n",
    "\n",
    "%matplotlib inline"
   ]
  },
  {
   "cell_type": "markdown",
   "id": "weird-moscow",
   "metadata": {},
   "source": [
    "##### Load Netflix TV and Shows Dataset"
   ]
  },
  {
   "cell_type": "code",
   "execution_count": null,
   "id": "close-philadelphia",
   "metadata": {},
   "outputs": [],
   "source": [
    "netflix_df = pd.read_csv('https://raw.githubusercontent.com/ahmedmeshref/Netflex-Data-Analysis/main/netflix_titles.csv')"
   ]
  },
  {
   "cell_type": "markdown",
   "id": "frank-color",
   "metadata": {},
   "source": [
    "##### Shape of dataset (rows, cols)"
   ]
  },
  {
   "cell_type": "code",
   "execution_count": null,
   "id": "inappropriate-beauty",
   "metadata": {},
   "outputs": [],
   "source": [
    "print(f'Number of rows: {netflix_df.shape[0]}, Columsn: {netflix_df.shape[1]}')"
   ]
  },
  {
   "cell_type": "markdown",
   "id": "canadian-brother",
   "metadata": {},
   "source": [
    "##### Load first 5 rows of the dataset"
   ]
  },
  {
   "cell_type": "code",
   "execution_count": null,
   "id": "eleven-visitor",
   "metadata": {},
   "outputs": [],
   "source": [
    "netflix_df.head(5)"
   ]
  },
  {
   "cell_type": "markdown",
   "id": "appointed-encyclopedia",
   "metadata": {},
   "source": [
    "### Understand dataset"
   ]
  },
  {
   "cell_type": "code",
   "execution_count": null,
   "id": "southeast-boost",
   "metadata": {},
   "outputs": [],
   "source": [
    "netflix_df.info()"
   ]
  },
  {
   "cell_type": "markdown",
   "id": "indonesian-competition",
   "metadata": {},
   "source": [
    "##### Check for unique values"
   ]
  },
  {
   "cell_type": "code",
   "execution_count": null,
   "id": "hispanic-gather",
   "metadata": {},
   "outputs": [],
   "source": [
    "netflix_df.nunique()"
   ]
  },
  {
   "cell_type": "markdown",
   "id": "breeding-inflation",
   "metadata": {},
   "source": [
    "##### Check NULL values"
   ]
  },
  {
   "cell_type": "code",
   "execution_count": null,
   "id": "dried-specialist",
   "metadata": {
    "scrolled": false
   },
   "outputs": [],
   "source": [
    "netflix_df.isnull().sum()"
   ]
  },
  {
   "cell_type": "markdown",
   "id": "phantom-nicholas",
   "metadata": {},
   "source": [
    "##### Check for duplicated rows "
   ]
  },
  {
   "cell_type": "code",
   "execution_count": null,
   "id": "taken-engineer",
   "metadata": {},
   "outputs": [],
   "source": [
    "netflix_df.duplicated().any()"
   ]
  },
  {
   "cell_type": "markdown",
   "id": "healthy-murray",
   "metadata": {},
   "source": [
    "### Data Cleaning "
   ]
  },
  {
   "cell_type": "markdown",
   "id": "dietary-world",
   "metadata": {},
   "source": [
    "##### Drop NULL values"
   ]
  },
  {
   "cell_type": "code",
   "execution_count": null,
   "id": "suburban-timing",
   "metadata": {},
   "outputs": [],
   "source": [
    "netflix_df = netflix_df.dropna()"
   ]
  },
  {
   "cell_type": "code",
   "execution_count": null,
   "id": "organized-seeker",
   "metadata": {},
   "outputs": [],
   "source": [
    "print(f'Number of rows: {netflix_df.shape[0]}, Columsn: {netflix_df.shape[1]}')"
   ]
  },
  {
   "cell_type": "markdown",
   "id": "concrete-station",
   "metadata": {},
   "source": [
    "##### Change Dates format    "
   ]
  },
  {
   "cell_type": "code",
   "execution_count": null,
   "id": "norwegian-contractor",
   "metadata": {},
   "outputs": [],
   "source": [
    "netflix_df['release_year'].astype(int);\n",
    "netflix_df['date_added'] = pd.to_datetime(netflix_df['date_added'])"
   ]
  },
  {
   "cell_type": "markdown",
   "id": "supposed-respondent",
   "metadata": {},
   "source": [
    "##### Extract the year_added col from the date_added col "
   ]
  },
  {
   "cell_type": "code",
   "execution_count": null,
   "id": "coastal-bolivia",
   "metadata": {},
   "outputs": [],
   "source": [
    "netflix_df['year_added'] = netflix_df['date_added'].dt.year"
   ]
  },
  {
   "cell_type": "code",
   "execution_count": null,
   "id": "marked-wrist",
   "metadata": {},
   "outputs": [],
   "source": [
    "netflix_df.head(5)"
   ]
  },
  {
   "cell_type": "markdown",
   "id": "measured-lecture",
   "metadata": {},
   "source": [
    "### Data Analysis & Visualization"
   ]
  },
  {
   "cell_type": "markdown",
   "id": "gentle-blind",
   "metadata": {},
   "source": [
    "##### Show number of Movies & Shows added to the website from year 2008-2021"
   ]
  },
  {
   "cell_type": "code",
   "execution_count": null,
   "id": "permanent-lawrence",
   "metadata": {},
   "outputs": [],
   "source": [
    "netflix_df['date_added'].groupby([netflix_df.year_added]).agg('count')"
   ]
  },
  {
   "cell_type": "code",
   "execution_count": null,
   "id": "spatial-football",
   "metadata": {},
   "outputs": [],
   "source": [
    "plt.figure(figsize=(10,10))\n",
    "sns.countplot(netflix_df['year_added'])\n",
    "plt.title('Movies & TV Shows added per year')\n",
    "plt.show()"
   ]
  },
  {
   "cell_type": "markdown",
   "id": "north-attendance",
   "metadata": {},
   "source": [
    "##### Show number of movies & TV Shows released in each one of the last 5 years"
   ]
  },
  {
   "cell_type": "code",
   "execution_count": null,
   "id": "extreme-patent",
   "metadata": {},
   "outputs": [],
   "source": [
    "netflix_df['release_year'].groupby([netflix_df.release_year]).agg('count')"
   ]
  },
  {
   "cell_type": "code",
   "execution_count": null,
   "id": "immediate-attitude",
   "metadata": {
    "scrolled": false
   },
   "outputs": [],
   "source": [
    "plt.figure(figsize=(12,6))\n",
    "sns.countplot(data=netflix_df, y=\"release_year\", order=[2020, 2019, 2018, 2017, 2016], palette=\"viridis\")\n",
    "plt.title('Programs (Movies & TV Shows) relased in the last 5 years')\n",
    "plt.show()"
   ]
  },
  {
   "cell_type": "markdown",
   "id": "further-office",
   "metadata": {},
   "source": [
    "##### Movies VS TV shows trend in the last 5 years at Netflix"
   ]
  },
  {
   "cell_type": "code",
   "execution_count": null,
   "id": "coated-luther",
   "metadata": {
    "scrolled": false
   },
   "outputs": [],
   "source": [
    "plt.figure(figsize=(10,10))\n",
    "\n",
    "netflix_df_last_5_years =  netflix_df[netflix_df.release_year >= 2016][netflix_df.release_year < 2021]\n",
    "\n",
    "g = sns.catplot(\n",
    "    data=netflix_df_last_5_years, kind=\"count\",\n",
    "    x=\"release_year\", hue=\"type\",\n",
    "    ci=\"sd\", palette=\"dark\", alpha=.7, height=8)\n",
    "\n",
    "ax = plt.gca()\n",
    "\n",
    "# Iterate through the list of axes' patches to show number of each patch \n",
    "for p in ax.patches:\n",
    "    ax.text(p.get_x() + p.get_width()/2., p.get_height(), '%d' % int(p.get_height()), \n",
    "            fontsize=12, color='black', ha='center', va='bottom')\n",
    "\n",
    "plt.title('Type (Movies | TV Shows) trends in Netflix from 2016-2020',size='15')\n",
    "plt.show()"
   ]
  },
  {
   "cell_type": "markdown",
   "id": "dietary-kazakhstan",
   "metadata": {},
   "source": [
    "##### Number of movies VS TV Shows in 2020"
   ]
  },
  {
   "cell_type": "code",
   "execution_count": null,
   "id": "serious-belly",
   "metadata": {},
   "outputs": [],
   "source": [
    "netflix_type = netflix_df[netflix_df.release_year == 2020]['type'].value_counts()\n",
    "print(netflix_type)"
   ]
  },
  {
   "cell_type": "code",
   "execution_count": null,
   "id": "deluxe-soundtrack",
   "metadata": {},
   "outputs": [],
   "source": [
    "plt.subplots(figsize=[10,8])\n",
    "\n",
    "# Pie chart\n",
    "plt.pie(netflix_type.values, colors=['#34495E','#D35400'], labels=[\"Movie\", \"TV Show\"], autopct='%1.1f%%', startangle=100)\n",
    "#draw circle\n",
    "centre_circle = plt.Circle((0,0),0.70,fc='white')\n",
    "fig = plt.gcf()\n",
    "fig.gca().add_artist(centre_circle)\n",
    "# Equal aspect ratio ensures that pie is drawn as a circle\n",
    "plt.axis('equal')  \n",
    "plt.tight_layout()\n",
    "plt.show()\n"
   ]
  },
  {
   "cell_type": "markdown",
   "id": "ruled-clerk",
   "metadata": {},
   "source": [
    "#### Top 5 countries that produces movies in the last 5 years"
   ]
  },
  {
   "cell_type": "code",
   "execution_count": null,
   "id": "younger-disorder",
   "metadata": {},
   "outputs": [],
   "source": [
    "# Countries contribution to programs production from 2016 - 2020 \n",
    "top_contributors_last_5_years = netflix_df_last_5_years.groupby(['country'])['show_id'].count().reset_index(name='count').sort_values(by='count',ascending=False)\n",
    "top_contributors_last_5_years"
   ]
  },
  {
   "cell_type": "code",
   "execution_count": null,
   "id": "killing-creator",
   "metadata": {},
   "outputs": [],
   "source": [
    "plt.figure(figsize=(10,10))\n",
    "\n",
    "# plot the contribution of the top 5 contributors in the last 5 years \n",
    "sns.barplot(x='country',y='count',data=top_contributors_last_5_years[:5])\n",
    "\n",
    "# Get current axis on current figure\n",
    "ax = plt.gca()\n",
    "\n",
    "\n",
    "# Iterate through the list of axes' patches\n",
    "for p in ax.patches:\n",
    "    ax.text(p.get_x() + p.get_width()/2., p.get_height(), '%d' % int(p.get_height()), \n",
    "            fontsize=12, color='black', ha='center', va='bottom')\n",
    "\n",
    "plt.title('Top 5 countries contributing to programs (Movies & TV Shows) production in the last 5 years', size='15')    \n",
    "plt.show()"
   ]
  },
  {
   "cell_type": "markdown",
   "id": "naughty-donna",
   "metadata": {},
   "source": [
    "#### The US is the top programs contributer in the last 5 years. Plot its contribution of movies and tv shows in the last 5 years "
   ]
  },
  {
   "cell_type": "code",
   "execution_count": null,
   "id": "resistant-infection",
   "metadata": {},
   "outputs": [],
   "source": [
    "plt.figure(figsize=(10,10))\n",
    "\n",
    "# Filter the United States movies and TV shows \n",
    "US_contribution = netflix_df[netflix_df['country'] == 'United States']\n",
    "\n",
    "# Count the total contribution by the US in the last 5 years  \n",
    "US_contribution_last_5_years = US_contribution.query(\"release_year >= 2016\").query(\"release_year < 2021\").groupby(['country', 'release_year'])['show_id'].count().reset_index(name='count')\n",
    "US_contribution_last_5_years\n",
    "\n",
    "\n",
    "sns.barplot(x='release_year',y='count',data=US_contribution_last_5_years, palette = \"Blues\")\n",
    "\n",
    "# Get current axis on current figure\n",
    "ax = plt.gca()\n",
    "\n",
    "\n",
    "# Iterate through the list of axes' patches\n",
    "for p in ax.patches:\n",
    "    ax.text(p.get_x() + p.get_width()/2., p.get_height(), '%d' % int(p.get_height()), \n",
    "            fontsize=12, color='black', ha='center', va='bottom')\n",
    "\n",
    "plt.title('Contributing of the United States to Movies & TV Shows production', size='15')    \n",
    "plt.show()"
   ]
  },
  {
   "cell_type": "markdown",
   "id": "tired-toddler",
   "metadata": {},
   "source": [
    "##### Number of shows that each country produced in 2020"
   ]
  },
  {
   "cell_type": "code",
   "execution_count": null,
   "id": "fuzzy-stretch",
   "metadata": {},
   "outputs": [],
   "source": [
    "netflix_df[netflix_df.release_year == 2020].groupby(['country'])['show_id'].count().reset_index(name='count').sort_values(by='count',ascending=False)"
   ]
  },
  {
   "cell_type": "code",
   "execution_count": null,
   "id": "noble-museum",
   "metadata": {},
   "outputs": [],
   "source": []
  }
 ],
 "metadata": {
  "kernelspec": {
   "display_name": "Python 3",
   "language": "python",
   "name": "python3"
  },
  "language_info": {
   "codemirror_mode": {
    "name": "ipython",
    "version": 3
   },
   "file_extension": ".py",
   "mimetype": "text/x-python",
   "name": "python",
   "nbconvert_exporter": "python",
   "pygments_lexer": "ipython3",
   "version": "3.8.5"
  }
 },
 "nbformat": 4,
 "nbformat_minor": 5
}
